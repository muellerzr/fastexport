{
 "cells": [
  {
   "cell_type": "code",
   "execution_count": 1,
   "metadata": {},
   "outputs": [],
   "source": [
    "#default_exp onnx"
   ]
  },
  {
   "cell_type": "markdown",
   "metadata": {},
   "source": [
    "# ONNX\n",
    "> Exporting fastai models to ONNX format"
   ]
  },
  {
   "cell_type": "code",
   "execution_count": 2,
   "metadata": {},
   "outputs": [],
   "source": [
    "#hide\n",
    "from nbdev.showdoc import *"
   ]
  },
  {
   "cell_type": "code",
   "execution_count": 11,
   "metadata": {},
   "outputs": [],
   "source": [
    "#export\n",
    "import torch\n",
    "from fastcore.all import *\n",
    "from fastai.learner import Learner"
   ]
  },
  {
   "cell_type": "code",
   "execution_count": null,
   "metadata": {},
   "outputs": [],
   "source": [
    "#export\n",
    "@patch\n",
    "def to_onnx(self:Learner, fname='export'):\n",
    "    \"Export model to ONNX format\"\n",
    "    orig_bs = self.dls.train.bs\n",
    "    self.dls.train.bs = 1\n",
    "    dummy_inp = self.dls.train.one_batch()[:self.dls.n_inp]\n",
    "    \n",
    "    names = inspect.getfullargspec(self.model.forward).args[1:]\n",
    "    \n",
    "    dynamic_axes = {n:{0:'batch_size'} for n in names}\n",
    "    dynamic_axes['output'] = {0:'batch_size'}\n",
    "    \n",
    "    torch.onnx.export(self.model, dummy_inp, self.path/f'{fname}.onnx',\n",
    "                     input_names = names, output_names=['output'],\n",
    "                     dynamic_axes=dynamic_axes)"
   ]
  }
 ],
 "metadata": {
  "kernelspec": {
   "display_name": "Python 3",
   "language": "python",
   "name": "python3"
  },
  "language_info": {
   "codemirror_mode": {
    "name": "ipython",
    "version": 3
   },
   "file_extension": ".py",
   "mimetype": "text/x-python",
   "name": "python",
   "nbconvert_exporter": "python",
   "pygments_lexer": "ipython3",
   "version": "3.7.0"
  }
 },
 "nbformat": 4,
 "nbformat_minor": 2
}
