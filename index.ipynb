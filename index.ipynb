{
 "cells": [
  {
   "cell_type": "markdown",
   "metadata": {},
   "source": [
    "# fastai Export Package\n",
    "\n",
    "> A package geared towards fastai export for version 2.3+"
   ]
  },
  {
   "cell_type": "markdown",
   "metadata": {},
   "source": [
    "This package will be a collection of inference-based improvements to the fastai, as listed out in [this](https://github.com/fastai/fastai/projects/1#card-53144632) list.\n",
    "\n",
    "A summary of implementations so far:\n",
    "\n",
    "> Note: (x) means implemented\n"
   ]
  },
  {
   "cell_type": "markdown",
   "metadata": {},
   "source": [
    "* `jit` export methodology (x)\n",
    "* `onnx` export methodology ( )"
   ]
  },
  {
   "cell_type": "code",
   "execution_count": null,
   "metadata": {},
   "outputs": [],
   "source": []
  }
 ],
 "metadata": {
  "kernelspec": {
   "display_name": "Python 3",
   "language": "python",
   "name": "python3"
  }
 },
 "nbformat": 4,
 "nbformat_minor": 0
}
